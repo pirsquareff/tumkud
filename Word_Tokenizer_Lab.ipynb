{
 "cells": [
  {
   "cell_type": "markdown",
   "metadata": {},
   "source": [
    "## Word Tokenizer exercise##\n",
    "\n",
    "In this exercise, you are going to build a set of deep learning models on a (sort of) real world task using Tensorflow and Keras. Tensorflow is a deep learning framwork developed by Google, and Keras is a frontend library built on top of Tensorflow (or Theano, CNTK) to provide an easier way to use standard layers and networks.\n",
    "\n",
    "To complete this exercise, you will need to build deep learning models for word tokenization in Thai (แบ่งเว้นวรรคภาษาไทย) using NECTEC's BEST corpus. You will build one model for each of the following type:\n",
    "- Fully Connected (Feedforward) Neural Network\n",
    "- One-Dimentional Convolution Neural Network (1D-CNN)\n",
    "- Recurrent Neural Network with Gated Recurrent Unit (GRU)\n",
    "\n",
    "and one more model of your choice to achieve the highest score possible.\n",
    "\n",
    "We provide the code for data cleaning and some starter code for keras in this notebook but feel free to modify those parts to suit your needs. You can also complete this exercise using only Tensorflow (without using Keras). Feel free to use additional libraries (e.g. scikit-learn) as long as you have a model for each type mentioned above.\n",
    "\n",
    "This notebook assumes you have already installed Tensorflow and Keras with python3 and had GPU enabled. If you run this exercise on GCloud using the provided disk image you are all set.\n",
    "\n",
    "As a reminder,\n",
    "\n",
    "### Don't forget to shut down your instance on Gcloud when you are not using it ###"
   ]
  },
  {
   "cell_type": "code",
   "execution_count": 1,
   "metadata": {
    "collapsed": false
   },
   "outputs": [
    {
     "name": "stderr",
     "output_type": "stream",
     "text": [
      "Using TensorFlow backend.\n"
     ]
    }
   ],
   "source": [
    "# Run setup code\n",
    "import os\n",
    "import numpy as np\n",
    "import pandas as pd\n",
    "import matplotlib.pyplot as plt\n",
    "from keras import backend as K\n",
    "from keras.callbacks import ModelCheckpoint, TensorBoard\n",
    "%matplotlib inline"
   ]
  },
  {
   "cell_type": "code",
   "execution_count": 2,
   "metadata": {
    "collapsed": true
   },
   "outputs": [],
   "source": [
    "# Prepare data\n",
    "# You don't need to run the following code as we already did it for you to give everyone the same dataset\n",
    "# import cattern.data_utils\n",
    "# cattern.data_utils.generate_best_dataset(os.getcwd()+'/data', create_val=True)"
   ]
  },
  {
   "cell_type": "markdown",
   "metadata": {},
   "source": [
    "For simplicity, we are going to build a word tokenization model which is a binary classification model trying to predict whether a character is the begining of the word or not (if it is, then there is a space in front of it) and without using any knowledge about type of character (vowel, number, English character etc.).\n",
    "\n",
    "For example,\n",
    "\n",
    "'แมวดำน่ารักมาก' -> 'แมว ดำ น่า รัก มาก'\n",
    "\n",
    "will have these true labels:\n",
    "\n",
    "[(แ,1), (ม,0), (ว,0) (ด,1), ( ำ,0), (น,1), (-่,0), (า,0), (ร,1), (-ั,0), (ก,0), (ม,1), (า,0), (ก,0)]\n",
    "\n",
    "In this task, we will use only main character you are trying to predict  and the characters that surround it (the context) as features. However, you can imagine that a more complex model will try to include more knowledge about each character into the model. You can do that too if you feel like it."
   ]
  },
  {
   "cell_type": "code",
   "execution_count": 3,
   "metadata": {
    "collapsed": true
   },
   "outputs": [],
   "source": [
    "# Create a character map\n",
    "CHARS = [\n",
    "  '\\n', ' ', '!', '\"', '#', '$', '%', '&', \"'\", '(', ')', '*', '+',\n",
    "  ',', '-', '.', '/', '0', '1', '2', '3', '4', '5', '6', '7', '8',\n",
    "  '9', ':', ';', '<', '=', '>', '?', '@', 'A', 'B', 'C', 'D', 'E',\n",
    "  'F', 'G', 'H', 'I', 'J', 'K', 'L', 'M', 'N', 'O', 'P', 'Q', 'R',\n",
    "  'S', 'T', 'U', 'V', 'W', 'X', 'Y', 'Z', '[', '\\\\', ']', '^', '_',\n",
    "  'a', 'b', 'c', 'd', 'e', 'f', 'g', 'h', 'i', 'j', 'k', 'l', 'm',\n",
    "  'n', 'o', 'other', 'p', 'q', 'r', 's', 't', 'u', 'v', 'w', 'x', 'y',\n",
    "  'z', '}', '~', 'ก', 'ข', 'ฃ', 'ค', 'ฅ', 'ฆ', 'ง', 'จ', 'ฉ', 'ช',\n",
    "  'ซ', 'ฌ', 'ญ', 'ฎ', 'ฏ', 'ฐ', 'ฑ', 'ฒ', 'ณ', 'ด', 'ต', 'ถ', 'ท',\n",
    "  'ธ', 'น', 'บ', 'ป', 'ผ', 'ฝ', 'พ', 'ฟ', 'ภ', 'ม', 'ย', 'ร', 'ฤ',\n",
    "  'ล', 'ว', 'ศ', 'ษ', 'ส', 'ห', 'ฬ', 'อ', 'ฮ', 'ฯ', 'ะ', 'ั', 'า',\n",
    "  'ำ', 'ิ', 'ี', 'ึ', 'ื', 'ุ', 'ู', 'ฺ', 'เ', 'แ', 'โ', 'ใ', 'ไ',\n",
    "  'ๅ', 'ๆ', '็', '่', '้', '๊', '๋', '์', 'ํ', '๐', '๑', '๒', '๓',\n",
    "  '๔', '๕', '๖', '๗', '๘', '๙', '‘', '’', '\\ufeff'\n",
    "]\n",
    "CHARS_MAP = {v: k for k, v in enumerate(CHARS)}"
   ]
  },
  {
   "cell_type": "code",
   "execution_count": 4,
   "metadata": {
    "collapsed": true
   },
   "outputs": [],
   "source": [
    "def create_n_gram_df(df, n_pad):\n",
    "  \"\"\"\n",
    "  Given an input dataframe, create a feature dataframe of shifted characters\n",
    "  Input:\n",
    "  df: timeseries of size (N)\n",
    "  n_pad: the number of context. For a given character at position [idx],\n",
    "    character at position [idx-n_pad/2 : idx+n_pad/2] will be used \n",
    "    as features for that character.\n",
    "  \n",
    "  Output:\n",
    "  dataframe of size (N * n_pad) which each row contains the character, \n",
    "    n_pad_2 characters to the left, and n_pad_2 characters to the right\n",
    "    of that character.\n",
    "  \"\"\"\n",
    "  n_pad_2 = int((n_pad - 1)/2)\n",
    "  for i in range(n_pad_2):\n",
    "      df['char-{}'.format(i+1)] = df['char'].shift(i + 1)\n",
    "      df['char{}'.format(i+1)] = df['char'].shift(-i - 1)\n",
    "  return df[n_pad_2: -n_pad_2]"
   ]
  },
  {
   "cell_type": "code",
   "execution_count": 5,
   "metadata": {
    "collapsed": true
   },
   "outputs": [],
   "source": [
    "def prepare_feature(best_processed_path, option='train'):\n",
    "  \"\"\"\n",
    "  Transform the path to a directory containing processed files \n",
    "  into a feature matrix and output array\n",
    "  Input:\n",
    "  best_processed_path: str, path to a processed version of the BEST dataset\n",
    "  option: str, 'train' or 'test'\n",
    "  \"\"\"\n",
    "  # we use padding equals 21 here to consider 10 characters to the left\n",
    "  # and 10 characters to the right as features for the character in the middle\n",
    "  n_pad = 21\n",
    "  n_pad_2 = int((n_pad - 1)/2)\n",
    "  pad = [{'char': ' ', 'target': True}]\n",
    "  df_pad = pd.DataFrame(pad * n_pad_2)\n",
    "\n",
    "  df = []\n",
    "  # article types in BEST corpus\n",
    "  article_types = ['article', 'encyclopedia', 'news', 'novel']\n",
    "  for article_type in article_types:\n",
    "      df.append(pd.read_csv(os.path.join(best_processed_path, option, 'df_best_{}_{}.csv'.format(article_type, option))))\n",
    "  \n",
    "  df = pd.concat(df)\n",
    "  # pad with empty string feature\n",
    "  df = pd.concat((df_pad, df, df_pad))\n",
    "\n",
    "  # map characters to numbers, use 'other' if not in the predefined character set.\n",
    "  df['char'] = df['char'].map(lambda x: CHARS_MAP.get(x, 80))\n",
    "\n",
    "  # Use nearby characters as features\n",
    "  df_with_context = create_n_gram_df(df, n_pad=n_pad)\n",
    "\n",
    "  char_row = ['char' + str(i + 1) for i in range(n_pad_2)] + \\\n",
    "             ['char-' + str(i + 1) for i in range(n_pad_2)] + ['char']\n",
    "\n",
    "  # convert pandas dataframe to numpy array to feed to the model\n",
    "  x_char = df_with_context[char_row].as_matrix()\n",
    "  y = df_with_context['target'].astype(int).as_matrix()\n",
    "\n",
    "  return x_char, y"
   ]
  },
  {
   "cell_type": "markdown",
   "metadata": {},
   "source": [
    "Before running the following commands, we must inform you that our data is quite large and loading the whole dataset at once will **use a lot of memory (~6 GB after processing and up to ~12GB while processing)**. We expect you to be running this on Google Cloud so that you will not run into this problem. But, if, for any reason, you have to run this on your PC or machine with not enough memory, you might need to write a data generator to process a few entries at a time then feed it to the model while training.\n",
    "\n",
    "For keras, you can use [fit_generator](https://keras.io/getting-started/faq/#how-can-i-use-keras-with-datasets-that-dont-fit-in-memory) to cope with that."
   ]
  },
  {
   "cell_type": "code",
   "execution_count": 6,
   "metadata": {
    "collapsed": true
   },
   "outputs": [],
   "source": [
    "# Path to the preprocessed data\n",
    "best_processed_path = 'cleaned_data'"
   ]
  },
  {
   "cell_type": "code",
   "execution_count": 7,
   "metadata": {
    "collapsed": false
   },
   "outputs": [
    {
     "name": "stdout",
     "output_type": "stream",
     "text": [
      "Training data shape:  (16461637, 21)\n",
      "Training data labels shape:  (16461637,)\n",
      "Validation data shape:  (2035694, 21)\n",
      "Validation data labels shape:  (2035694,)\n",
      "Test data shape:  (2271932, 21)\n",
      "Test data labels shape:  (2271932,)\n"
     ]
    }
   ],
   "source": [
    "# Load preprocessed BEST corpus\n",
    "x_train_char, y_train = prepare_feature(best_processed_path, option='train')\n",
    "x_val_char, y_val = prepare_feature(best_processed_path, option='val')\n",
    "x_test_char, y_test = prepare_feature(best_processed_path, option='test')\n",
    "\n",
    "# As a sanity check, we print out the size of the training, val, and test data.\n",
    "print('Training data shape: ', x_train_char.shape)\n",
    "print('Training data labels shape: ', y_train.shape)\n",
    "print('Validation data shape: ', x_val_char.shape)\n",
    "print('Validation data labels shape: ', y_val.shape)\n",
    "print('Test data shape: ', x_test_char.shape)\n",
    "print('Test data labels shape: ', y_test.shape)"
   ]
  },
  {
   "cell_type": "code",
   "execution_count": 8,
   "metadata": {
    "collapsed": false
   },
   "outputs": [
    {
     "name": "stdout",
     "output_type": "stream",
     "text": [
      "First 3 features:  [[ 112.  140.  114.  148.  130.  142.   94.  142.  128.  128.    1.    1.\n",
      "     1.    1.    1.    1.    1.    1.    1.    1.   97.]\n",
      " [ 140.  114.  148.  130.  142.   94.  142.  128.  128.  141.   97.    1.\n",
      "     1.    1.    1.    1.    1.    1.    1.    1.  112.]\n",
      " [ 114.  148.  130.  142.   94.  142.  128.  128.  141.  109.  112.   97.\n",
      "     1.    1.    1.    1.    1.    1.    1.    1.  140.]]\n",
      "First 30 class labels [1 0 0 0 0 0 0 0 0 0 0 0 0 0 0 0 0 0 0 0 1 0 0 1 0 0 0 1 0 0]\n"
     ]
    }
   ],
   "source": [
    "# Print some entry from the data to make sure it is the same as what you think.\n",
    "print('First 3 features: ', x_train_char[:3])\n",
    "print('First 30 class labels', y_train[:30])"
   ]
  },
  {
   "cell_type": "markdown",
   "metadata": {},
   "source": [
    "Now, you are going to define the model to be used as your classifier. If you are using Keras, please follow the guideline we provide below. We encourage you to use the Keras Funtional API instead of the Sequential model as it is easier to create complex models (and to read your code). You can find more about Keras Functional API on Keras [documentation](https://keras.io/getting-started/functional-api-guide/).\n",
    "\n",
    "You need to create a function that return a model you want and write code that invoke _**model.fit**_ to train your model. For example, your function ***get_nn()*** might looks like this:\n",
    "\n",
    "```python\n",
    "def get_nn():\n",
    "  input1 = Input(...)\n",
    "  ...\n",
    "  # Create your wonderful model.\n",
    "  ...\n",
    "  out = ...\n",
    "  model = Model(inputs=input1, outputs=out)\n",
    "  model.compile(...)\n",
    "return model\n",
    "```\n",
    "\n",
    "Also, beware that complex model requires more time to train and your dataset is already quite large. We tested it with a simple 1-hidden-layered feedforward nueral network and it used ~10 mins to train 1 epoch. It got more than 95% accuracy on validation set after the first epoch, so you should aim for a model with accuracy around 96-98%."
   ]
  },
  {
   "cell_type": "markdown",
   "metadata": {},
   "source": [
    "# Three-Layer Feedforward Neural Networks\n",
    "\n",
    "Below, we provide you the code for creating a 3-layer fully connected neural network in keras. This will also serve as the baseline for your other models. Run the code below while making sure you understand what you are doing. Then, report the results."
   ]
  },
  {
   "cell_type": "code",
   "execution_count": 9,
   "metadata": {
    "collapsed": false
   },
   "outputs": [],
   "source": [
    "from keras.models import Model\n",
    "from keras.layers import Input, Dense\n",
    "from keras.optimizers import Adam\n",
    "\n",
    "def get_feedforward_nn():\n",
    "  input1 = Input(shape=(21,))\n",
    "  x = Dense(100, activation='relu')(input1)\n",
    "  x = Dense(100, activation='relu')(x)\n",
    "  x = Dense(100, activation='relu')(x)\n",
    "  out = Dense(1, activation='sigmoid')(x)\n",
    "\n",
    "  model = Model(inputs=input1, outputs=out)\n",
    "  model.compile(optimizer=Adam(),\n",
    "                loss='binary_crossentropy',\n",
    "                metrics=['acc'])\n",
    "  return model"
   ]
  },
  {
   "cell_type": "code",
   "execution_count": 10,
   "metadata": {
    "collapsed": false
   },
   "outputs": [],
   "source": [
    "%%script false \n",
    "# This is called to clear the original model session in order to use TensorBoard\n",
    "K.clear_session()\n",
    "\n",
    "# Path to save model parameters\n",
    "weight_path_feedforward_nn='/data/model_weight_feedforward_nn.h5'\n",
    "\n",
    "# Training callbacks list\n",
    "callbacks_list_feedforward_nn = [\n",
    "        TensorBoard(log_dir='/data/Graph/ff', histogram_freq=1, write_graph=True, write_grads=True),\n",
    "        ModelCheckpoint(\n",
    "            weight_path_feedforward_nn,\n",
    "            save_best_only=True,\n",
    "            save_weights_only=True,\n",
    "            monitor='val_loss',\n",
    "            mode='min',\n",
    "            verbose=1\n",
    "        )\n",
    "  ]\n",
    "\n",
    "print('start training')\n",
    "verbose = 1\n",
    "model_feedforward_nn = get_feedforward_nn()\n",
    "train_params = [(3, 65536)]\n",
    "for (epochs, batch_size) in train_params:\n",
    "  print(\"train with {} epochs and {} batch size\".format(epochs, batch_size))\n",
    "  model_feedforward_nn.fit(x_train_char, y_train, epochs=epochs, batch_size=batch_size, verbose=verbose,\n",
    "                           callbacks=callbacks_list_feedforward_nn,\n",
    "                           validation_data=(x_val_char, y_val))"
   ]
  },
  {
   "cell_type": "code",
   "execution_count": 11,
   "metadata": {
    "collapsed": false
   },
   "outputs": [],
   "source": [
    "# Load saved model weight\n",
    "weight_path_feedforward_nn='/data/model_weight_feedforward_nn.h5'\n",
    "model_feedforward_nn = get_feedforward_nn()\n",
    "model_feedforward_nn.load_weights(weight_path_feedforward_nn)"
   ]
  },
  {
   "cell_type": "code",
   "execution_count": 12,
   "metadata": {
    "collapsed": false
   },
   "outputs": [
    {
     "name": "stdout",
     "output_type": "stream",
     "text": [
      "_________________________________________________________________\n",
      "Layer (type)                 Output Shape              Param #   \n",
      "=================================================================\n",
      "input_1 (InputLayer)         (None, 21)                0         \n",
      "_________________________________________________________________\n",
      "dense_1 (Dense)              (None, 100)               2200      \n",
      "_________________________________________________________________\n",
      "dense_2 (Dense)              (None, 100)               10100     \n",
      "_________________________________________________________________\n",
      "dense_3 (Dense)              (None, 100)               10100     \n",
      "_________________________________________________________________\n",
      "dense_4 (Dense)              (None, 1)                 101       \n",
      "=================================================================\n",
      "Total params: 22,501\n",
      "Trainable params: 22,501\n",
      "Non-trainable params: 0\n",
      "_________________________________________________________________\n"
     ]
    }
   ],
   "source": [
    "model_feedforward_nn.summary()"
   ]
  },
  {
   "cell_type": "code",
   "execution_count": 13,
   "metadata": {
    "collapsed": true
   },
   "outputs": [],
   "source": [
    "################################################################################\n",
    "# TODO#1:                                                                      #\n",
    "# Write a function to evaluate your model. Your function must make prediction  #\n",
    "# using the input model and return f-score, precision, and recall of the model.#\n",
    "# You can make predictions by calling model.predict().                         #\n",
    "#                                                                              #\n",
    "# Hint: sklearn.metrics has these functions available for you.                 #\n",
    "################################################################################\n",
    "\n",
    "from sklearn.metrics import accuracy_score, f1_score, precision_score, recall_score, roc_curve, auc\n",
    "import copy\n",
    "\n",
    "global_threshold = 0.5\n",
    "\n",
    "def evaluate(x_test, y_test, model):\n",
    "    \"\"\"\n",
    "    Evaluate model on splitted 10 percent testing set.\n",
    "    \"\"\"\n",
    "    y_pred = model.predict(x_test, batch_size=65536, verbose=1)\n",
    "    print()\n",
    "    \n",
    "    y_pred = y_pred[:,0]\n",
    "    y_pred_t = (y_pred > global_threshold).astype(int)\n",
    "    \n",
    "    precision = precision_score(y_test, y_pred_t)\n",
    "    recall = recall_score(y_test, y_pred_t)\n",
    "    f1score = f1_score(y_test, y_pred_t)\n",
    "    accuracy = accuracy_score(y_test, y_pred_t)\n",
    "    \n",
    "    return y_pred_t, f1score, precision, recall, accuracy"
   ]
  },
  {
   "cell_type": "code",
   "execution_count": 14,
   "metadata": {
    "collapsed": false
   },
   "outputs": [
    {
     "name": "stdout",
     "output_type": "stream",
     "text": [
      "2228224/2271932 [============================>.] - ETA: 0s\n",
      "F1 Score: 0.813199\n",
      "Precision: 0.836171\n",
      "Recall: 0.791456\n",
      "Accuracy: 0.898684\n"
     ]
    }
   ],
   "source": [
    "y_pred_1, f1score_1, precision_1, recall_1, accuracy_1 = evaluate(x_test_char, y_test, model_feedforward_nn)\n",
    "print(\"F1 Score: {0:f}\\nPrecision: {1:f}\\nRecall: {2:f}\\nAccuracy: {3:f}\".format(f1score_1, precision_1, recall_1, accuracy_1))"
   ]
  },
  {
   "cell_type": "code",
   "execution_count": 15,
   "metadata": {
    "collapsed": false
   },
   "outputs": [
    {
     "name": "stdout",
     "output_type": "stream",
     "text": [
      "2162688/2271932 [===========================>..] - ETA: 0s\n",
      "Loss: 0.241206\n",
      "Accuracy: 0.898684\n"
     ]
    }
   ],
   "source": [
    "loss_1, accuracy_1 = model_feedforward_nn.evaluate(x_test_char, y_test, batch_size=65536, verbose=1)\n",
    "print(\"\\nLoss: {0:f}\\nAccuracy: {1:f}\".format(loss_1, accuracy_1))"
   ]
  },
  {
   "cell_type": "markdown",
   "metadata": {},
   "source": [
    "# Debugging\n",
    "\n",
    "In order to understand what is going on in your model and where the error is, you should try looking at the inputs your model made wrong predictions.\n",
    "\n",
    "In this task, write a function to print the characters on test data that got wrong prediction along with its context of size 10 (from [x-10] to [x+10]). Examine a fews of those and write your assumption on where the model got wrong prediction."
   ]
  },
  {
   "cell_type": "code",
   "execution_count": 16,
   "metadata": {
    "collapsed": true
   },
   "outputs": [],
   "source": [
    "# TODO#2\n",
    "# Write code to show a few of the errors the models made.\n",
    "def inspect_err(y_pred, y_true, x):\n",
    "    err_mask = np.not_equal(y_pred, y_true)\n",
    "    err_x = x[err_mask]\n",
    "    err_y = y_pred[err_mask]\n",
    "    true_y = y_true[err_mask]\n",
    "    return err_x, err_y, true_y"
   ]
  },
  {
   "cell_type": "code",
   "execution_count": 17,
   "metadata": {
    "collapsed": false
   },
   "outputs": [
    {
     "name": "stdout",
     "output_type": "stream",
     "text": [
      "0(True: 1)->     ปฏิรูป {ก} ารศึกษา : \n",
      "0(True: 1)-> า : มุมมอง {ท} างกระบวนทั\n",
      "0(True: 1)-> วนทัศน์และ {บ} ริบทสังคมไ\n",
      "1(True: 0)-> นทัศน์และบ {ร} ิบทสังคมไท\n",
      "0(True: 1)-> บริบทสังคม {ไ} ทยThe Refo\n",
      "1(True: 0)-> ริบทสังคมไ {ท} ยThe Refor\n",
      "0(True: 1)-> บทสังคมไทย {T} he Reforma\n",
      "0(True: 1)-> erspective {ก} ระบวนทัศน์\n",
      "1(True: 0)-> ะวิธีคิดแบ {บ} แยกส่วน ลด\n",
      "0(True: 1)-> วิธีคิดแบบ {แ} ยกส่วน ลดส\n",
      "0(True: 1)-> ีคิดแบบแยก {ส} ่วน ลดส่วน\n",
      "0(True: 1)-> แยกส่วน ลด {ส} ่วน ได้ทำใ\n",
      "1(True: 0)-> ดส่วน ได้ท {ำ} ให้\"การศึก\n",
      "0(True: 1)-> ้\"การศึกษา {เ} รียนรู้\"ใน\n",
      "1(True: 0)-> ศึกษาเรียน {ร} ู้\"ใน หลาย\n",
      "0(True: 1)-> ู้\"ใน หลาย {ท} ศวรรษที่ผ่\n",
      "0(True: 1)-> ื่องของโรง {เ} รียน ครูอา\n",
      "1(True: 0)->  กระทรวงศึ {ก} ษาธิการ ทบ\n",
      "1(True: 0)-> ระทรวงศึกษ {า} ธิการ ทบวง\n",
      "1(True: 0)-> รวงศึกษาธิ {ก} าร ทบวงมหา\n",
      "0(True: 1)-> ทยาลัยฯ มา {อ} ย่างต่อเนื\n",
      "1(True: 0)-> มาอย่างต่อ {เ} นื่องยาวนา\n",
      "1(True: 0)-> ่เรื่องสุข {ภ} าพเป็นเรื่\n",
      "0(True: 1)-> องแพทย์และ {โ} รงพยาบาล) \n",
      "0(True: 1)-> พทย์และโรง {พ} ยาบาล) การ\n",
      "0(True: 1)-> าล) การจัด {ก} ารศึกษาภาย\n",
      "0(True: 1)-> ัดการศึกษา {ภ} ายใต้กระบว\n",
      "0(True: 1)-> ศน์และวิธี {ค} ิดแบบดังกล\n",
      "0(True: 1)-> รัฐ ได้ถูก {ว} ิพากษ์วิจา\n",
      "1(True: 0)-> ถูกวิพากษ์ {ว} ิจารณ์และต\n",
      "1(True: 0)-> กวิพากษ์วิ {จ} ารณ์และตกเ\n",
      "0(True: 1)-> วิจารณ์และ {ต} กเป็นจำเลย\n",
      "0(True: 1)-> จารณ์และตก {เ} ป็นจำเลยจา\n",
      "0(True: 1)-> ณ์ทางสังคม {ม} ากมาย อันส\n",
      "0(True: 1)-> มากมาย อัน {ส} ะท้อนถึงคว\n",
      "0(True: 1)-> ้อนถึงความ {ล} ้มเหลวของก\n",
      "1(True: 0)-> ถึงความล้ม {เ} หลวของการจ\n",
      "0(True: 1)-> เพื่อพัฒนา {ม} นุษย์ (ปัญ\n",
      "1(True: 0)-> พื่อพัฒนาม {น} ุษย์ (ปัญห\n",
      "1(True: 0)-> นุษย์ (ปัญ {ห} าศีลธรรมเส\n",
      "0(True: 1)-> ษย์ (ปัญหา {ศ} ีลธรรมเสื่\n",
      "1(True: 0)-> ธรรมเสื่อม {ถ} อย ยาเสพติ\n",
      "0(True: 1)-> ติด การขาด {จ} ิตสำนึกทาง\n",
      "1(True: 0)-> ด การขาดจิ {ต} สำนึกทางสั\n",
      "0(True: 1)->  การขาดจิต {ส} ำนึกทางสัง\n",
      "1(True: 0)-> การขาดจิตส {ำ} นึกทางสังค\n",
      "0(True: 1)->  ซึ่งสังคม {ร} ่วมกันสรุป\n",
      "0(True: 1)-> กิดจากความ {ล} ้มเหลวของร\n",
      "1(True: 0)-> จากความล้ม {เ} หลวของระบบ\n",
      "0(True: 1)-> หลวของระบบ {ก} ารศึกษาในก\n"
     ]
    }
   ],
   "source": [
    "err_x_1, err_y_1, true_y_1 = inspect_err(y_pred_1, y_test, x_test_char)\n",
    "for i in range(50):\n",
    "    n_pad = 21\n",
    "    n_pad_2 = int((n_pad - 1)/2)\n",
    "    print(err_y_1[i], end='')\n",
    "    print(\"(True: {0:d})\".format(true_y_1[i]), end='')\n",
    "    print(\"-> \", end='')\n",
    "    for j in range(n_pad_2):\n",
    "        print(CHARS[int(err_x_1[i][n_pad - j - 2])], end='')\n",
    "    print(\" {\", end='')\n",
    "    print(CHARS[int(err_x_1[i][-1])], end='')\n",
    "    print(\"} \", end='')\n",
    "    for j in range(n_pad_2):\n",
    "        print(CHARS[int(err_x_1[i][j])], end='')\n",
    "    print()"
   ]
  },
  {
   "cell_type": "markdown",
   "metadata": {},
   "source": [
    "# Write your answer here\n",
    "\n",
    "**Your answer**: <br>\n",
    "From the inspection on the inputs that produce error above, we found that most error are associated with a word that contains more than one syllable. For example, 'ห' in \"ปัญหา\" should not be tagged as the target because \"-หา\" is the second syllable of the word \"ปัญหา\".\n",
    "\n",
    "The second is that some vowel may not be required to follow by a final consonant. For example, in \"พัฒนามนุษย์\" the result of this model is \"พัฒนาม\" + \"นุษย์\" instead of \"พัฒนา\" + \"มนุษย์\". It considered 'ม' as the final consonant of the word \"นาม\".\n",
    "\n",
    "The other error is caused by inherent vowel (สระลดรูป พวกสระโอะ เป็นต้น)."
   ]
  },
  {
   "cell_type": "markdown",
   "metadata": {},
   "source": [
    "# Tensorboard #\n",
    "The code provided also have Tensorboard (a visualization tool that comes with Tensorflow). Note the part that calls it `TensorBoard(log_dir='./Graph/' + graph_name, histogram_freq=1, write_graph=True, write_grads=True)`. This tells Tensorflow to write extra outputs to the `log_dir` which can then be used for visualization.\n",
    "\n",
    "To start tensorboard do\n",
    "```\n",
    "tensorboard --logdir=/full_path_to_your_logs\n",
    "```\n",
    "from the commandline. This will launch tensorboard, you will be able to access it from a web browser by pointint the url to `<instance-ip>:6006`. You will need to enable additional firewall rules in Gcloud for this.\n",
    "\n",
    "In Tensorboard, you will be able to debug your computation graph which can be hard to keep track in code. This is might seem trivial in Keras, but it is very helpful for Tensorflow. You can see a visualization of the computation graph at the `GRAPH` tab. If you see multiple dense layers (more than 4), this is caused by running the code several times without deleting the log dir. Delete the log dir and re-run the code.\n",
    "\n",
    "Next, let's look at the scalars tab, we can see the loss and accuracy on the training and validation set as they change over each epoch. This can be useful to detect overfitting.\n",
    "\n",
    "Another useful tab is the histograms tab. This plot histograms of the weights, biases, and outputs of each layer. The depth of the histograms show the change over epochs. We can see how the histograms of weights change over the training peroid. This can be used to debug vanishing gradients or getting stuck in local minimas.\n",
    "\n",
    "There are other useful tabs in Tensorboard, you can read about them in the Keras [documentation](https://keras.io/callbacks/#tensorboard) for tensorboard."
   ]
  },
  {
   "cell_type": "markdown",
   "metadata": {},
   "source": [
    "# Tensorboard observation\n",
    "\n",
    "Write your own interpretation of the logs from this example. A simple sentence or two for each tab is sufficient.\n",
    "\n",
    "**Your answer**: <br>\n",
    "The following shows a visualization of the computation graph from the GRAPHS tab.\n",
    "As shown in it, there are four dense layers along with the data flows passed in and out.\n",
    "\n",
    "<img src=\"./images/graphs.png\"/>\n",
    "\n",
    "In the SCALARS tab, it shows accuracy and loss over three epochs as follows.\n",
    "\n",
    "<img src=\"./images/scalars.png\"/>\n",
    "\n",
    "As in the figure above, the accuracy is getting higher and the loss is getting lower every single epoch.\n",
    "\n",
    "And in the last tab, HISTOGRAMS, it plots histograms of the weights, biases, and outputs of each layer as shown below.\n",
    "\n",
    "<img src=\"./images/histograms.png\"/>"
   ]
  },
  {
   "cell_type": "markdown",
   "metadata": {},
   "source": [
    "# Dropout\n",
    "\n",
    "You might notice that the 3-layered feedforward does not use dropout at all. Now, try adding dropout to the model, run, and report the result again."
   ]
  },
  {
   "cell_type": "code",
   "execution_count": 18,
   "metadata": {
    "collapsed": true
   },
   "outputs": [],
   "source": [
    "# TODO#4\n",
    "# Write a function that return feedforward model with dropout\n",
    "from keras.layers import Dropout\n",
    "\n",
    "def get_nn_with_dropout():\n",
    "    input1 = Input(shape=(21,))\n",
    "    x = Dense(100, activation='relu')(input1)\n",
    "    x = Dropout(0.2)(x)\n",
    "    x = Dense(100, activation='relu')(x)\n",
    "    x = Dropout(0.2)(x)\n",
    "    x = Dense(100, activation='relu')(x)\n",
    "    x = Dropout(0.2)(x)\n",
    "    out = Dense(1, activation='sigmoid')(x)\n",
    "\n",
    "    model = Model(inputs=input1, outputs=out)\n",
    "    model.compile(optimizer=Adam(),\n",
    "                loss='binary_crossentropy',\n",
    "                metrics=['acc'])\n",
    "    return model"
   ]
  },
  {
   "cell_type": "code",
   "execution_count": 19,
   "metadata": {
    "collapsed": false
   },
   "outputs": [],
   "source": [
    "%%script false \n",
    "# TODO#5\n",
    "# Complete the code to train your model with dropout\n",
    "\n",
    "# This is called to clear the original model session in order to use TensorBoard\n",
    "K.clear_session()\n",
    "\n",
    "# Path to save model parameters\n",
    "weight_path_nn_with_dropout='/data/model_weight_nn_with_dropout.h5'\n",
    "\n",
    "# Training callbacks list\n",
    "callbacks_list_nn_with_dropout = [\n",
    "        TensorBoard(log_dir='/data/Graph/ff_2', histogram_freq=1, write_graph=True, write_grads=True),\n",
    "        ModelCheckpoint(\n",
    "            weight_path_nn_with_dropout,\n",
    "            save_best_only=True,\n",
    "            save_weights_only=True,\n",
    "            monitor='val_loss',\n",
    "            mode='min',\n",
    "            verbose=1\n",
    "        )\n",
    "  ]\n",
    "\n",
    "print('start training')\n",
    "verbose = 1\n",
    "model_nn_with_dropout = get_nn_with_dropout()\n",
    "train_params = [(3, 65536)]\n",
    "for (epochs, batch_size) in train_params:\n",
    "    print(\"train with {} epochs and {} batch size\".format(epochs, batch_size))\n",
    "    model_nn_with_dropout.fit(x_train_char, y_train, epochs=epochs, batch_size=batch_size, verbose=verbose,\n",
    "                              callbacks=callbacks_list_nn_with_dropout,\n",
    "                              validation_data=(x_val_char, y_val))"
   ]
  },
  {
   "cell_type": "code",
   "execution_count": 20,
   "metadata": {
    "collapsed": true
   },
   "outputs": [],
   "source": [
    "# Load saved model weight\n",
    "weight_path_nn_with_dropout='/data/model_weight_nn_with_dropout.h5'\n",
    "model_nn_with_dropout = get_nn_with_dropout()\n",
    "model_nn_with_dropout.load_weights(weight_path_nn_with_dropout)"
   ]
  },
  {
   "cell_type": "code",
   "execution_count": 21,
   "metadata": {
    "collapsed": false
   },
   "outputs": [
    {
     "name": "stdout",
     "output_type": "stream",
     "text": [
      "_________________________________________________________________\n",
      "Layer (type)                 Output Shape              Param #   \n",
      "=================================================================\n",
      "input_2 (InputLayer)         (None, 21)                0         \n",
      "_________________________________________________________________\n",
      "dense_5 (Dense)              (None, 100)               2200      \n",
      "_________________________________________________________________\n",
      "dropout_1 (Dropout)          (None, 100)               0         \n",
      "_________________________________________________________________\n",
      "dense_6 (Dense)              (None, 100)               10100     \n",
      "_________________________________________________________________\n",
      "dropout_2 (Dropout)          (None, 100)               0         \n",
      "_________________________________________________________________\n",
      "dense_7 (Dense)              (None, 100)               10100     \n",
      "_________________________________________________________________\n",
      "dropout_3 (Dropout)          (None, 100)               0         \n",
      "_________________________________________________________________\n",
      "dense_8 (Dense)              (None, 1)                 101       \n",
      "=================================================================\n",
      "Total params: 22,501\n",
      "Trainable params: 22,501\n",
      "Non-trainable params: 0\n",
      "_________________________________________________________________\n"
     ]
    }
   ],
   "source": [
    "model_nn_with_dropout.summary()"
   ]
  },
  {
   "cell_type": "code",
   "execution_count": 22,
   "metadata": {
    "collapsed": false
   },
   "outputs": [
    {
     "name": "stdout",
     "output_type": "stream",
     "text": [
      "2228224/2271932 [============================>.] - ETA: 0s\n",
      "F1 Score: 0.543723\n",
      "Precision: 0.836985\n",
      "Recall: 0.402644\n",
      "Accuracy: 0.811703\n"
     ]
    }
   ],
   "source": [
    "y_pred_2, f1score_2, precision_2, recall_2, accuracy_2 = evaluate(x_test_char, y_test, model_nn_with_dropout)\n",
    "print(\"F1 Score: {0:f}\\nPrecision: {1:f}\\nRecall: {2:f}\\nAccuracy: {3:f}\".format(f1score_2, precision_2, recall_2, accuracy_2))"
   ]
  },
  {
   "cell_type": "code",
   "execution_count": 23,
   "metadata": {
    "collapsed": false
   },
   "outputs": [
    {
     "name": "stdout",
     "output_type": "stream",
     "text": [
      "2162688/2271932 [===========================>..] - ETA: 0s\n",
      "Loss: 0.425182\n",
      "Accuracy: 0.811703\n"
     ]
    }
   ],
   "source": [
    "loss_2, accuracy_2 = model_nn_with_dropout.evaluate(x_test_char, y_test, batch_size=65536, verbose=1)\n",
    "print(\"\\nLoss: {0:f}\\nAccuracy: {1:f}\".format(loss_2, accuracy_2))"
   ]
  },
  {
   "cell_type": "markdown",
   "metadata": {},
   "source": [
    "# A fork on the road\n",
    "\n",
    "In the next Sections, we will discuss CNNs and GRUs. **PICK ONE** method to complete to finish the homework. Then, do the **Final Section**"
   ]
  },
  {
   "cell_type": "markdown",
   "metadata": {},
   "source": [
    "# Convolution Neural Networks\n",
    "\n",
    "Now, you are going to implement you own 1d-convolution neural networks with the following structure:\n",
    "input -> embedding layer (size 32) -> 1D-convolution layer (100 filters of size 5, strides of 1) -> TimeDistributed (Dense size 5) -> fully-connected layer (size 100) -> output.\n",
    "\n",
    "These parameters are simple guidelines to save your time. You can play with them in the final section.\n",
    "\n",
    "The results should be better than the feedforward model.\n",
    "\n",
    "Do consult keras documentation on how to use [embedding layers](https://keras.io/layers/embeddings/) and [1D-cnn](https://keras.io/layers/convolutional/).\n"
   ]
  },
  {
   "cell_type": "code",
   "execution_count": 28,
   "metadata": {
    "collapsed": false
   },
   "outputs": [],
   "source": [
    "################################################################################\n",
    "# TODO#A1:                                                                      #\n",
    "# Write a function that returns keras convolution neural network model.        #\n",
    "# You can choose any normalization methods, activation function, as well as    #\n",
    "# any hyperparameter the way you want. Your goal is to predict a score         #\n",
    "# between [0,1] for each input whether it is the beginning of the word or not. #\n",
    "#                                                                              #\n",
    "# Hint: You should read keras documentation to see the list of available       #\n",
    "# layers and options you can use.                                              #\n",
    "################################################################################\n",
    "\n",
    "from keras.layers import Embedding, Conv1D, TimeDistributed, Flatten\n",
    "from keras.optimizers import SGD\n",
    "\n",
    "def get_conv1d_nn():\n",
    "    input1 = Input(shape=(21,))\n",
    "    x = Embedding(len(CHARS) + 1, 32, input_length=21)(input1)\n",
    "    x = Conv1D(100, 5, activation='relu')(x)\n",
    "    x = TimeDistributed(Dense(5))(x)\n",
    "    x = Flatten()(x)\n",
    "    x = Dense(100, activation='relu')(x)\n",
    "    out = Dense(1, activation='sigmoid')(x)\n",
    "\n",
    "    model = Model(inputs=input1, outputs=out)\n",
    "    model.compile(optimizer=Adam(),\n",
    "                loss='binary_crossentropy',\n",
    "                metrics=['acc'])\n",
    "    return model"
   ]
  },
  {
   "cell_type": "code",
   "execution_count": 29,
   "metadata": {
    "collapsed": false
   },
   "outputs": [
    {
     "name": "stdout",
     "output_type": "stream",
     "text": [
      "start training\n",
      "train with 3 epochs and 32768 batch size\n",
      "Train on 16461637 samples, validate on 2035694 samples\n",
      "Epoch 1/3\n",
      "16449536/16461637 [============================>.] - ETA: 0s - loss: 0.2148 - acc: 0.9074Epoch 00000: val_loss improved from inf to 0.13173, saving model to /data/model_weight_conv1d_nn.h5\n",
      "16461637/16461637 [==============================] - 901s - loss: 0.2147 - acc: 0.9074 - val_loss: 0.1317 - val_acc: 0.9498\n",
      "Epoch 2/3\n",
      "16449536/16461637 [============================>.] - ETA: 0s - loss: 0.1134 - acc: 0.9559Epoch 00001: val_loss improved from 0.13173 to 0.10426, saving model to /data/model_weight_conv1d_nn.h5\n",
      "16461637/16461637 [==============================] - 907s - loss: 0.1134 - acc: 0.9559 - val_loss: 0.1043 - val_acc: 0.9603\n",
      "Epoch 3/3\n",
      "16449536/16461637 [============================>.] - ETA: 0s - loss: 0.0941 - acc: 0.9639Epoch 00002: val_loss improved from 0.10426 to 0.09198, saving model to /data/model_weight_conv1d_nn.h5\n",
      "16461637/16461637 [==============================] - 908s - loss: 0.0941 - acc: 0.9639 - val_loss: 0.0920 - val_acc: 0.9651\n"
     ]
    }
   ],
   "source": [
    "################################################################################\n",
    "# TODO#A2:                                                                      #\n",
    "# Write code that call model.fit, or model.fit_generator if you have data      #\n",
    "# generator, to train you models. Make sure you have validation_data as an     # \n",
    "# argument and use verbose=2 to generate one log line per epoch. Select your   #\n",
    "# batch size carefully as it will affect your model's ability to converge and  #\n",
    "# time needed for one epoch.                                                   #\n",
    "#                                                                              #\n",
    "# Hint: Read about callbacks_list argument on the documentation. You might     #\n",
    "# find  ReduceLROnPlateau() and ModelCheckpoint() useful for your training     #\n",
    "# process. Feel free to use any other callback function available.             #\n",
    "################################################################################\n",
    "# This is called to clear the original model session in order to use TensorBoard\n",
    "K.clear_session()\n",
    "\n",
    "model_conv1d_nn = get_conv1d_nn()\n",
    "################################################################################\n",
    "#                            WRITE YOUR CODE BELOW                             #\n",
    "################################################################################\n",
    "\n",
    "# Path to save model parameters\n",
    "weight_path_conv1d_nn='/data/model_weight_conv1d_nn.h5'\n",
    "\n",
    "# Training callbacks list\n",
    "callbacks_list_conv1d_nn = [\n",
    "        TensorBoard(log_dir='/data/Graph/ff_3', histogram_freq=1, write_graph=True, write_grads=True),\n",
    "        ModelCheckpoint(\n",
    "            weight_path_conv1d_nn,\n",
    "            save_best_only=True,\n",
    "            save_weights_only=True,\n",
    "            monitor='val_loss',\n",
    "            mode='min',\n",
    "            verbose=1\n",
    "        )\n",
    "  ]\n",
    "\n",
    "print('start training')\n",
    "verbose = 1\n",
    "train_params = [(3, 32768)]\n",
    "for (epochs, batch_size) in train_params:\n",
    "    print(\"train with {} epochs and {} batch size\".format(epochs, batch_size))\n",
    "    model_conv1d_nn.fit(x_train_char, y_train, epochs=epochs, batch_size=batch_size, verbose=verbose,\n",
    "                              callbacks=callbacks_list_conv1d_nn,\n",
    "                              validation_data=(x_val_char, y_val))"
   ]
  },
  {
   "cell_type": "code",
   "execution_count": 77,
   "metadata": {
    "collapsed": false
   },
   "outputs": [],
   "source": [
    "# Load saved model weight\n",
    "weight_path_conv1d_nn='/data/model_weight_conv1d_nn.h5'\n",
    "model_conv1d_nn = get_conv1d_nn()\n",
    "model_conv1d_nn.load_weights(weight_path_conv1d_nn)"
   ]
  },
  {
   "cell_type": "code",
   "execution_count": 78,
   "metadata": {
    "collapsed": false
   },
   "outputs": [
    {
     "name": "stdout",
     "output_type": "stream",
     "text": [
      "_________________________________________________________________\n",
      "Layer (type)                 Output Shape              Param #   \n",
      "=================================================================\n",
      "input_2 (InputLayer)         (None, 21)                0         \n",
      "_________________________________________________________________\n",
      "embedding_2 (Embedding)      (None, 21, 32)            5728      \n",
      "_________________________________________________________________\n",
      "conv1d_2 (Conv1D)            (None, 17, 100)           16100     \n",
      "_________________________________________________________________\n",
      "time_distributed_2 (TimeDist (None, 17, 5)             505       \n",
      "_________________________________________________________________\n",
      "flatten_2 (Flatten)          (None, 85)                0         \n",
      "_________________________________________________________________\n",
      "dense_5 (Dense)              (None, 100)               8600      \n",
      "_________________________________________________________________\n",
      "dense_6 (Dense)              (None, 1)                 101       \n",
      "=================================================================\n",
      "Total params: 31,034\n",
      "Trainable params: 31,034\n",
      "Non-trainable params: 0\n",
      "_________________________________________________________________\n"
     ]
    }
   ],
   "source": [
    "model_conv1d_nn.summary()"
   ]
  },
  {
   "cell_type": "code",
   "execution_count": 31,
   "metadata": {
    "collapsed": false
   },
   "outputs": [
    {
     "name": "stdout",
     "output_type": "stream",
     "text": [
      "2271932/2271932 [==============================] - 3s     \n",
      "\n",
      "F1 Score: 0.942418\n",
      "Precision: 0.928474\n",
      "Recall: 0.956788\n",
      "Accuracy: 0.967422\n"
     ]
    }
   ],
   "source": [
    "y_pred_3, f1score_3, precision_3, recall_3, accuracy_3 = evaluate(x_test_char, y_test, model_conv1d_nn)\n",
    "print(\"F1 Score: {0:f}\\nPrecision: {1:f}\\nRecall: {2:f}\\nAccuracy: {3:f}\".format(f1score_3, precision_3, recall_3, accuracy_3))"
   ]
  },
  {
   "cell_type": "code",
   "execution_count": 32,
   "metadata": {
    "collapsed": false
   },
   "outputs": [
    {
     "name": "stdout",
     "output_type": "stream",
     "text": [
      "2271932/2271932 [==============================] - 3s     \n",
      "\n",
      "Loss: 0.086305\n",
      "Accuracy: 0.967422\n"
     ]
    }
   ],
   "source": [
    "loss_3, accuracy_3 = model_conv1d_nn.evaluate(x_test_char, y_test, batch_size=65536, verbose=1)\n",
    "print(\"\\nLoss: {0:f}\\nAccuracy: {1:f}\".format(loss_3, accuracy_3))"
   ]
  },
  {
   "cell_type": "markdown",
   "metadata": {},
   "source": [
    "# GRU\n",
    "\n",
    "Implement your GRU model with the following structure: input -> embedding layer (size 32) -> GRU layer (size 32) -> fully-connected layer (size 100) -> output.\n",
    "\n",
    "\n",
    "These parameters are simple guidelines to save your time. You can play with them in the final section.\n",
    "\n",
    "The result should be better than the feedforward model and at least on par with your CNN model.\n",
    "\n",
    "Do consult keras documentation on how to use [embedding layers](https://keras.io/layers/embeddings/) and [GRUs](https://keras.io/layers/recurrent/).\n"
   ]
  },
  {
   "cell_type": "code",
   "execution_count": 99,
   "metadata": {
    "collapsed": true
   },
   "outputs": [],
   "source": [
    "################################################################################\n",
    "# TODO#B1                                                                        #\n",
    "# Write a function that returns keras GRU network moded. You can choose any    #\n",
    "# normalization methods, activation function, as well as any hyperparameter    #\n",
    "# the way you want. Your goal is to predict a score between [0,1] for each     #\n",
    "# input whether it is the beginning of the word or not.                        #\n",
    "#                                                                              #\n",
    "# Hint: You should read keras documentation to see the list of available       #\n",
    "# layers and options you can use.                                              #\n",
    "################################################################################\n",
    "\n",
    "from keras.layers import GRU\n",
    "\n",
    "def get_gru():\n",
    "    input1 = Input(shape=(21,))\n",
    "    x = Embedding(len(CHARS) + 1, 32, input_length=21)(input1)\n",
    "    x = GRU(32)(x)\n",
    "    x = Dense(100, activation='relu')(x)\n",
    "    out = Dense(1, activation='sigmoid')(x)\n",
    "\n",
    "    model = Model(inputs=input1, outputs=out)\n",
    "    model.compile(optimizer=Adam(),\n",
    "                loss='binary_crossentropy',\n",
    "                metrics=['acc'])\n",
    "    return model"
   ]
  },
  {
   "cell_type": "code",
   "execution_count": null,
   "metadata": {
    "collapsed": false
   },
   "outputs": [],
   "source": [
    "################################################################################\n",
    "# TODO#B2                                                                      #\n",
    "# Write code that call model.fit, or model.fit_generator if you have data      #\n",
    "# generator, to train you models. Make sure you have validation_data as an     # \n",
    "# argument and use verbose=2 to generate one log line per epoch. Select your   #\n",
    "# batch size carefully as it will affect your model's ability to converge and  #\n",
    "# time needed for one epoch.                                                   #\n",
    "#                                                                              #\n",
    "# Hint: Read about callbacks_list argument on the documentation. You might     #\n",
    "# find  ReduceLROnPlateau() and ModelCheckpoint() useful for your training     #\n",
    "# process. Feel free to use any other callback function available.             #\n",
    "################################################################################\n",
    "# This is called to clear the original model session in order to use TensorBoard\n",
    "K.clear_session()\n",
    "\n",
    "model_gru = get_gru()\n",
    "################################################################################\n",
    "#                            WRITE YOUR CODE BELOW                             #\n",
    "################################################################################\n",
    "# Path to save model parameters\n",
    "weight_path_model_gru='/data/model_weight_model_gru.h5'\n",
    "\n",
    "# Training callbacks list\n",
    "callbacks_list_model_gru = [\n",
    "        TensorBoard(log_dir='/data/Graph/ff_4', histogram_freq=1, write_graph=True, write_grads=True),\n",
    "        ModelCheckpoint(\n",
    "            weight_path_conv1d_nn,\n",
    "            save_best_only=True,\n",
    "            save_weights_only=True,\n",
    "            monitor='val_loss',\n",
    "            mode='min',\n",
    "            verbose=1\n",
    "        )\n",
    "  ]\n",
    "\n",
    "print('start training')\n",
    "verbose = 1\n",
    "train_params = [(3, 65536)]\n",
    "for (epochs, batch_size) in train_params:\n",
    "    print(\"train with {} epochs and {} batch size\".format(epochs, batch_size))\n",
    "    model_gru.fit(x_train_char, y_train, epochs=epochs, batch_size=batch_size, verbose=verbose,\n",
    "                  callbacks=callbacks_list_model_gru,\n",
    "                  validation_data=(x_val_char, y_val))"
   ]
  },
  {
   "cell_type": "code",
   "execution_count": null,
   "metadata": {
    "collapsed": true
   },
   "outputs": [],
   "source": [
    "# Load saved model weight\n",
    "weight_path_model_gru='/data/model_weight_model_gru.h5'\n",
    "model_gru = get_my_best_model()\n",
    "model_gru.load_weights(weight_path_model_gru)"
   ]
  },
  {
   "cell_type": "code",
   "execution_count": null,
   "metadata": {
    "collapsed": true
   },
   "outputs": [],
   "source": [
    "model_gru.summary()"
   ]
  },
  {
   "cell_type": "code",
   "execution_count": null,
   "metadata": {
    "collapsed": true
   },
   "outputs": [],
   "source": [
    "y_pred_4, f1score_4, precision_4, recall_4, accuracy_4 = evaluate(x_test_char, y_test, model_gru)\n",
    "print(\"F1 Score: {0:f}\\nPrecision: {1:f}\\nRecall: {2:f}\\nAccuracy: {3:f}\".format(f1score_4, precision_4, recall_4, accuracy_4))"
   ]
  },
  {
   "cell_type": "code",
   "execution_count": null,
   "metadata": {
    "collapsed": true
   },
   "outputs": [],
   "source": [
    "loss_4, accuracy_4 = model_gru.evaluate(x_test_char, y_test, batch_size=65536, verbose=1)\n",
    "print(\"\\nLoss: {0:f}\\nAccuracy: {1:f}\".format(loss_4, accuracy_4))"
   ]
  },
  {
   "cell_type": "markdown",
   "metadata": {},
   "source": [
    "# Embedding Vector (Optional)\n",
    "You may noticed that we used an embedding layer in the previous models. This is to map a character (an integer per character) to a vector representions it, e.g. mapping [a] from [35] to [0.432 0.921 0.111 0.526]. These vectors are trained along with other layers by back propagation. The reason for using embedding layers is to better encode information about the  characters. This can include relationships between the characters, and its relavance to the top-level task used to train the embedding.\n",
    "In this section, you are going to plot the embedding vectors that you have trained. Because we cannot visualize high dimentional data, we need to map those positions down to 2D or 3D. \n",
    "In this task, plot a 2D vecter representations with t-SNE.\n"
   ]
  },
  {
   "cell_type": "code",
   "execution_count": 79,
   "metadata": {
    "collapsed": true
   },
   "outputs": [],
   "source": [
    "from sklearn.manifold import TSNE\n",
    "\n",
    "def plot_with_labels(low_dim_embs, labels, filename='characters-tsne.png'):\n",
    "  assert low_dim_embs.shape[0] >= len(labels), 'More labels than embeddings'\n",
    "  plt.figure(figsize=(18, 18))  # in inches\n",
    "  for i, label in enumerate(labels):\n",
    "    x, y = low_dim_embs[i, :]\n",
    "    plt.scatter(x, y)\n",
    "    plt.annotate(label,\n",
    "                 xy=(x, y),\n",
    "                 xytext=(5, 2),\n",
    "                 textcoords='offset points',\n",
    "                 ha='right',\n",
    "                 va='bottom',\n",
    "                 fontname='TH Sarabun New',\n",
    "                 fontsize=20)\n",
    "\n",
    "  plt.savefig(filename)\n",
    "  plt.show()"
   ]
  },
  {
   "cell_type": "code",
   "execution_count": 97,
   "metadata": {
    "collapsed": false
   },
   "outputs": [],
   "source": [
    "################################################################################\n",
    "# TODO#O1                                                                      #\n",
    "# Extract embedding tables from your model. Put it in 'embedding_table'.       #\n",
    "# Your embedding_table must be of size 178 x K where K is the embedding        #\n",
    "# dimension you used in your model.                                            # \n",
    "################################################################################\n",
    "embedding_table = np.zeros([178, 32])\n",
    "\n",
    "embedding_table = np.array(model_conv1d_nn.layers[1].get_weights()[0])"
   ]
  },
  {
   "cell_type": "code",
   "execution_count": 98,
   "metadata": {
    "collapsed": false
   },
   "outputs": [
    {
     "data": {
      "image/png": "[encoded data removed]",
      "text/plain": [
       "<matplotlib.figure.Figure at 0x7f89730c50f0>"
      ]
     },
     "metadata": {},
     "output_type": "display_data"
    }
   ],
   "source": [
    "# Run t-SNE and plot the representation\n",
    "tsne = TSNE(perplexity=5, n_components=2, init='pca', n_iter=1000, method='exact')\n",
    "plot_only = 178\n",
    "low_dim_embs = tsne.fit_transform(embedding_table)\n",
    "labels = [CHARS[i] for i in range(plot_only)]\n",
    "plot_with_labels(low_dim_embs, labels)"
   ]
  },
  {
   "cell_type": "markdown",
   "metadata": {},
   "source": [
    "# Final Section\n",
    "# Keras playground\n",
    "\n",
    "Now, train the best model you can do for this task. You can use any model structure and function available. Remember that trainig time increases with the complexity of the model. You might find TensorBoard helpful in tuning of complicated models.\n",
    "\n",
    "Your model should be better than your CNN or GRU model in the previous sections.\n",
    "\n",
    "We will give you 2 bonus points if you can achieve more than 97.8% f-score on test set.\n",
    "Another 3 bonus points will be awarded to the person with the highest f-score."
   ]
  },
  {
   "cell_type": "code",
   "execution_count": 35,
   "metadata": {
    "collapsed": true
   },
   "outputs": [],
   "source": [
    "################################################################################\n",
    "# TODO#7                                                                        #\n",
    "# Write a function that returns keras your best model. You can use anything    #\n",
    "# you want. The goal here is to create the best model you can think of.        #\n",
    "# Your model should get f-score more than 97% from calling evaluate().         #\n",
    "#                                                                              #\n",
    "# Hint: You should read keras documentation to see the list of available       #\n",
    "# layers and options you can use.                                              #\n",
    "################################################################################\n",
    "from keras.layers import LSTM\n",
    "\n",
    "def get_my_best_model():\n",
    "    input1 = Input(shape=(21,))\n",
    "    x = Embedding(len(CHARS) + 1, 64, input_length=21)(input1)\n",
    "    x = LSTM(64, activation='relu')(x)\n",
    "    x = Dropout(0.2)(x)\n",
    "    x = TimeDistributed(Dense(5))(x)\n",
    "    x = Flatten()(x)\n",
    "    x = Dense(100, activation='relu')(x)\n",
    "    out = Dense(1, activation='sigmoid')(x)\n",
    "\n",
    "    model = Model(inputs=input1, outputs=out)\n",
    "    model.compile(optimizer=Adam(),\n",
    "                loss='binary_crossentropy',\n",
    "                metrics=['acc'])\n",
    "    \n",
    "    return model"
   ]
  },
  {
   "cell_type": "code",
   "execution_count": null,
   "metadata": {
    "collapsed": false
   },
   "outputs": [],
   "source": [
    "################################################################################\n",
    "# TODO#8                                                                        #\n",
    "# Write code that call model.fit, or model.fit_generator if you have data      #\n",
    "# generator, to train you models. Make sure you have validation_data as an     # \n",
    "# argument and use verbose=2 to generate one log line per epoch. Select your   #\n",
    "# batch size carefully as it will affect your model's ability to converge and  #\n",
    "# time needed for one epoch.                                                   #\n",
    "#                                                                              #\n",
    "# Hint: Read about callbacks_list argument on the documentation. You might     #\n",
    "# find  ReduceLROnPlateau() and ModelCheckpoint() useful for your training     #\n",
    "# process. Feel free to use any other callback function available.             #\n",
    "################################################################################\n",
    "# This is called to clear the original model session in order to use TensorBoard\n",
    "K.clear_session()\n",
    "\n",
    "my_best_model = get_my_best_model()\n",
    "################################################################################\n",
    "#                            WRITE YOUR CODE BELOW                             #\n",
    "################################################################################\n",
    "\n",
    "# Path to save model parameters\n",
    "weight_path_my_best_model='/data/model_weight_my_best_model.h5'\n",
    "\n",
    "# Training callbacks list\n",
    "callbacks_list_my_best_model = [\n",
    "        TensorBoard(log_dir='/data/Graph/ff_5', histogram_freq=1, write_graph=True, write_grads=True),\n",
    "        ModelCheckpoint(\n",
    "            weight_path_my_best_model,\n",
    "            save_best_only=True,\n",
    "            save_weights_only=True,\n",
    "            monitor='val_loss',\n",
    "            mode='min',\n",
    "            verbose=1\n",
    "        )\n",
    "  ]\n",
    "\n",
    "print('start training')\n",
    "verbose = 1\n",
    "train_params = [(3, 65536)]\n",
    "for (epochs, batch_size) in train_params:\n",
    "    print(\"train with {} epochs and {} batch size\".format(epochs, batch_size))\n",
    "    my_best_model.fit(x_train_char, y_train, epochs=epochs, batch_size=batch_size, verbose=verbose,\n",
    "                              callbacks=callbacks_list_my_best_model,\n",
    "                              validation_data=(x_val_char, y_val))"
   ]
  },
  {
   "cell_type": "code",
   "execution_count": null,
   "metadata": {
    "collapsed": true
   },
   "outputs": [],
   "source": [
    "# Load saved model weight\n",
    "weight_path_my_best_model='/data/model_weight_my_best_model.h5'\n",
    "my_best_model = get_my_best_model()\n",
    "my_best_model.load_weights(weight_path_my_best_model)"
   ]
  },
  {
   "cell_type": "code",
   "execution_count": null,
   "metadata": {
    "collapsed": true
   },
   "outputs": [],
   "source": [
    "my_best_model.summary()"
   ]
  },
  {
   "cell_type": "code",
   "execution_count": null,
   "metadata": {
    "collapsed": true
   },
   "outputs": [],
   "source": [
    "y_pred_5, f1score_5, precision_5, recall_5, accuracy_5 = evaluate(x_test_char, y_test, my_best_model)\n",
    "print(\"F1 Score: {0:f}\\nPrecision: {1:f}\\nRecall: {2:f}\\nAccuracy: {3:f}\".format(f1score_5, precision_5, recall_5, accuracy_5))"
   ]
  },
  {
   "cell_type": "code",
   "execution_count": null,
   "metadata": {
    "collapsed": true
   },
   "outputs": [],
   "source": [
    "loss_5, accuracy_5 = my_best_model.evaluate(x_test_char, y_test, batch_size=65536, verbose=1)\n",
    "print(\"\\nLoss: {0:f}\\nAccuracy: {1:f}\".format(loss_5, accuracy_5))"
   ]
  }
 ],
 "metadata": {
  "kernelspec": {
   "display_name": "Python 3",
   "language": "python",
   "name": "python3"
  },
  "language_info": {
   "codemirror_mode": {
    "name": "ipython",
    "version": 3
   },
   "file_extension": ".py",
   "mimetype": "text/x-python",
   "name": "python",
   "nbconvert_exporter": "python",
   "pygments_lexer": "ipython3",
   "version": "3.5.2"
  }
 },
 "nbformat": 4,
 "nbformat_minor": 2
}
